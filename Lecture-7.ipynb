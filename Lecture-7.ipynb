{
 "cells": [
  {
   "cell_type": "markdown",
   "metadata": {
    "collapsed": true,
    "pycharm": {
     "name": "#%% md\n"
    }
   },
   "source": [
    "# Array Lists\n",
    "\n",
    "## Array Lists\n",
    "\n",
    "### Declaration\n",
    "\n",
    "* The syntax for declaring an array list is `ArrayList<Type> name = new ArrayList<Type>()`\n",
    "\n",
    "### Advantages\n",
    "\n",
    "* Size is dynamic, rather than fixed\n",
    "* Can store elements of different types\n",
    "    * This is because `Object` is a superclass of classes like `Integer` or `String`\n",
    "\n",
    "### Disadvantages\n",
    "\n",
    "* Array lists are less efficient than arrays\n",
    "* Array lists lack the `[x]` syntax\n",
    "    * Must instead use `arrList.get(<index>)` and `arrList.set(<index>, <value>)`\n",
    "* The base types of array lists must be object, not primitive types\n",
    "    * Primitive types are boolean, byte, char, short, int, long, float, and double\n",
    "\n",
    "### Capacity vs Size\n",
    "\n",
    "* An array list tracks the two following sizes:\n",
    "    * Capacity (length of allocated array)\n",
    "    * Size (number of elements in the list)  \n",
    "* $\\displaystyle \\underbrace{\\overbrace{\\fbox{\"Cat\"} \\ \\fbox{\"Hat\"} \\ \\fbox{\"Bat\"}}^{\\text{Size}} \\ \\dots \\ \\fbox{\"\"} \\ \\fbox{\"\"}}_{\\text{Capacity}}$\n",
    "\n",
    "### Methods\n",
    "\n",
    "#### Adding Elements\n",
    "\n",
    "* `arrList.add(<object>)` adds an object to the end of the list, adjusts the size, and returns `true`\n",
    "* `arrList.add(<index>, <object>)` adds an object to the specified index of the list, slides later elements 1 index to the right, and returns `void`\n",
    "* The capacity of the arrayList increases as necessary\n",
    "    * Note that whenever the capacity is breached, a new arrayList is made and the values copied over, making this very inefficient\n",
    "    \n",
    "#### Searching Elements\n",
    "\n",
    "* `arrList.contains(<object>)` returns `true` if the object is within the array list, or `false` otherwise\n",
    "* `arrList.indexOf(<object>)` returns the index of the first occurance of the object, or `-1` otherwise\n",
    "* `arrList.lastIndexOf(<object>)` returns the index of the last occurance of the object, or `-1` otherwise\n",
    "\n",
    "#### Size and Capacity\n",
    "\n",
    "* `arrList.isEmpty()` returns `true` if empty, and `false` otherwise\n",
    "* `arrList.size()` returns the number of elements in the array list\n",
    "* `arrList.clear()` removes all of the elements, sets size to `0`, and returns `void`\n",
    "\n",
    "#### Removing Elements\n",
    "\n",
    "* `arrList.remove(<index>)` removes and returns the item at the specified index, shifting remaining elements to the left\n",
    "* `arrList.remove(<object>)` removes the first occurance of the object, shifting remaining elements to the left, returns `true` if the object was found\n",
    "\n",
    "#### Array-like Methods\n",
    "\n",
    "* `arrList.set(<index>, <newObject>)` replaces and returns the former element at the specified index with the new object\n",
    "* `arrList.get(<index>)` returns the element at the specified index\n",
    "\n",
    "#### Printing the List\n",
    "\n",
    "* `arrList.toString()` returns a string containing all of the objects in the array list like `\"[1, 2, 3]\"`\n",
    "\n",
    "#### Equality\n",
    "\n",
    "* `arrList.equals(<arrayList>)` returns `true` if both objects are the same size, and have the same elements **in the same order**\n",
    "\n",
    "#### Note About TypeCasting\n",
    "\n",
    "* The methods `get`, `set`, and `remove` all return an item of the type `Object`, which must then be cast\n",
    "\n",
    "## Generics\n",
    "\n",
    "## Wrapper Classes\n",
    "\n",
    "## ArrayLists vs Arrays\n"
   ]
  }
 ],
 "metadata": {
  "kernelspec": {
   "display_name": "Python 3",
   "language": "python",
   "name": "python3"
  },
  "language_info": {
   "codemirror_mode": {
    "name": "ipython",
    "version": 2
   },
   "file_extension": ".py",
   "mimetype": "text/x-python",
   "name": "python",
   "nbconvert_exporter": "python",
   "pygments_lexer": "ipython2",
   "version": "2.7.6"
  },
  "pycharm": {
   "stem_cell": {
    "cell_type": "raw",
    "source": [],
    "metadata": {
     "collapsed": false
    }
   }
  }
 },
 "nbformat": 4,
 "nbformat_minor": 0
}