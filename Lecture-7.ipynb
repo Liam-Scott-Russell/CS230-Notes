{
 "cells": [
  {
   "cell_type": "markdown",
   "metadata": {
    "collapsed": true,
    "pycharm": {
     "name": "#%% md\n"
    }
   },
   "source": [
    "# Array Lists\n",
    "\n",
    "## Array Lists\n",
    "\n",
    "### Declaration\n",
    "\n",
    "* The syntax for declaring an array list is `ArrayList<Type> name = new ArrayList<Type>(<capacity>)`\n",
    "\n",
    "### Advantages\n",
    "\n",
    "* Size is dynamic, rather than fixed\n",
    "* Can store elements of different types\n",
    "    * This is because `Object` is a superclass of classes like `Integer` or `String`\n",
    "\n",
    "### Disadvantages\n",
    "\n",
    "* Array lists are less efficient than arrays\n",
    "* Array lists lack the `[x]` syntax\n",
    "    * Must instead use `arrList.get(<index>)` and `arrList.set(<index>, <value>)`\n",
    "* The base types of array lists must be object, not primitive types\n",
    "    * Primitive types are boolean, byte, char, short, int, long, float, and double\n",
    "\n",
    "### Capacity vs Size\n",
    "\n",
    "* An array list tracks the two following sizes:\n",
    "    * Capacity (length of allocated array)\n",
    "    * Size (number of elements in the list)  \n",
    "* $\\displaystyle \\underbrace{\\overbrace{\\fbox{\"Cat\"} \\ \\fbox{\"Hat\"} \\ \\fbox{\"Bat\"}}^{\\text{Size}} \\ \\dots \\ \\fbox{\"\"} \\ \\fbox{\"\"}}_{\\text{Capacity}}$\n",
    "\n",
    "### Methods\n",
    "\n",
    "#### Adding Elements\n",
    "\n",
    "* `arrList.add(<object>)` adds an object to the end of the list, adjusts the size, and returns `true`\n",
    "* `arrList.add(<index>, <object>)` adds an object to the specified index of the list, slides later elements 1 index to the right, and returns `void`\n",
    "* The capacity of the arrayList increases as necessary\n",
    "    * Note that whenever the capacity is breached, a new arrayList is made and the values copied over, making this very inefficient\n",
    "    \n",
    "#### Searching Elements\n",
    "\n",
    "* `arrList.contains(<object>)` returns `true` if the object is within the array list, or `false` otherwise\n",
    "* `arrList.indexOf(<object>)` returns the index of the first occurance of the object, or `-1` otherwise\n",
    "* `arrList.lastIndexOf(<object>)` returns the index of the last occurance of the object, or `-1` otherwise\n",
    "\n",
    "#### Size and Capacity\n",
    "\n",
    "* `arrList.isEmpty()` returns `true` if empty, and `false` otherwise\n",
    "* `arrList.size()` returns the number of elements in the array list\n",
    "* `arrList.clear()` removes all of the elements, sets size to `0`, and returns `void`\n",
    "\n",
    "#### Removing Elements\n",
    "\n",
    "* `arrList.remove(<index>)` removes and returns the item at the specified index, shifting remaining elements to the left\n",
    "* `arrList.remove(<object>)` removes the first occurance of the object, shifting remaining elements to the left, returns `true` if the object was found\n",
    "\n",
    "#### Array-like Methods\n",
    "\n",
    "* `arrList.set(<index>, <newObject>)` replaces and returns the former element at the specified index with the new object\n",
    "* `arrList.get(<index>)` returns the element at the specified index\n",
    "\n",
    "#### Printing the List\n",
    "\n",
    "* `arrList.toString()` returns a string containing all of the objects in the array list like `\"[1, 2, 3]\"`\n",
    "* The elements of an array list can be printed using enhanced for loop \n",
    "    * Syntax is `for (<Type> var : <Collection>) { <Statements> }`"
   ]
  },
  {
   "cell_type": "code",
   "execution_count": 3,
   "metadata": {
    "pycharm": {
     "is_executing": false,
     "name": "#%% java\n"
    }
   },
   "outputs": [
    {
     "name": "stdout",
     "output_type": "stream",
     "text": [
      "1\n",
      "2\n",
      "3\n"
     ]
    }
   ],
   "source": [
    "ArrayList<Integer> arrList = new ArrayList<Integer>();\n",
    "arrList.add(1);\n",
    "arrList.add(2);\n",
    "arrList.add(3);\n",
    "\n",
    "for (int var : arrList) {\n",
    "    System.out.println(var);\n",
    "}"
   ]
  },
  {
   "cell_type": "markdown",
   "metadata": {
    "pycharm": {
     "name": "#%% md\n"
    }
   },
   "source": [
    "#### Equality\n",
    "\n",
    "* `arrList.equals(<arrayList>)` returns `true` if both objects are the same size, and have the same elements **in the same order**\n",
    "\n",
    "#### Note About TypeCasting\n",
    "\n",
    "* The methods `get`, `set`, and `remove` all return an item of the type `Object`, which must then be cast\n",
    "\n",
    "## Wrapper Classes\n",
    "\n",
    "### Definitions\n",
    "\n",
    "* Array lists do not work with the Java primitive types, as they are not classes\n",
    "* Wrapper classes are essentially the object form of a primitive type\n",
    "* The general rule is that you write out the full name of the primitive type and capitalize it\n",
    "\n",
    "#### Table of Exceptions\n",
    "\n",
    "|Data Type  | Wrapper   |\n",
    "| :---      | :---      |\n",
    "| char      | Character |\n",
    "| int       | Integer   |\n",
    "\n",
    "### Converting Between Wrapper Classes\n",
    "\n",
    "#### Value to Wrapper Class\n",
    "\n",
    "* `<Wrapper>.valueOf()` takes a value and returns an object of type `<Wrapper>`\n",
    "    * e.g. `Integer i = Integer.valueOf(42)`\n",
    "* `new <Wrapper>()` uses object creation syntax to return an object of type `<Wrapper>`\n",
    "    * e.g. `Integer i = new Integer(42)`\n",
    "\n",
    "#### Wrapper Class to Value\n",
    "\n",
    "* Every wrapper class has a method `<primitive>Value()` that returns the object's value\n",
    "    * e.g. `i.intValue()` or `b.booleanValue()`\n",
    "* Wrapper classes can also parse strings into the primitive type using `<Wrapper>.parse<primitive>(<string>)`\n",
    "    * e.g. `int i = Integer.parseInt(\"42\")`\n",
    "    \n",
    "### Auto Boxing\n",
    "\n",
    "* Conversion between `int` to `Integer` in the right place is mostly automatic"
   ]
  },
  {
   "cell_type": "code",
   "execution_count": 5,
   "metadata": {
    "pycharm": {
     "is_executing": false,
     "name": "#%% java\n"
    }
   },
   "outputs": [
    {
     "data": {
      "text/html": [
       "2"
      ]
     },
     "execution_count": 5,
     "metadata": {},
     "output_type": "execute_result"
    }
   ],
   "source": [
    "ArrayList<Integer> numbers = new ArrayList<Integer>();\n",
    "numbers.add(1); // auto-boxing\n",
    "int i = numbers.get(0) + 1; // auto-unboxing"
   ]
  },
  {
   "cell_type": "markdown",
   "metadata": {
    "pycharm": {
     "name": "#%% md\n"
    }
   },
   "source": [
    "## ArrayLists vs Arrays\n",
    "\n",
    "### Comparison\n",
    "\n",
    "| Topic     | Array List Behaviour              | Array Behaviour           |\n",
    "| :---      | :---                              | :---                      |\n",
    "| Capacity  | Adjusted as needed                | Fixed at initialization   |\n",
    "| Printing  | Prints the elements               | Prints the memory address |\n",
    "| Sizing    | `ArrList.size()`                  | `Arr.length`              |\n",
    "| Setting   | `ArrList.set(<index>, <value>)`   | `Arr[<index>] = <value>`  |\n",
    "| Getting   | `ArrList.get(<index>)             | `Arr[<index>]`            |\n",
    "\n",
    "### Converting Between Forms\n",
    "\n",
    "#### Array to ArrayList\n",
    "\n",
    "* Use the `asList()` method on the `Arrays` class\n",
    "* e.g. `arr.asList()`\n",
    "\n",
    "#### ArrayList to Array\n",
    "\n",
    "* Use the `.toArray()` method on the `ArrayAList` class\n",
    "* e.g. `arrList.toArray()`"
   ]
  }
 ],
 "metadata": {
  "kernelspec": {
   "display_name": "SciJava",
   "language": "groovy",
   "name": "scijava"
  },
  "language_info": {
   "codemirror_mode": "groovy",
   "file_extension": "",
   "mimetype": "",
   "name": "scijava",
   "nbconverter_exporter": "",
   "pygments_lexer": "groovy",
   "version": "1.0"
  },
  "pycharm": {
   "stem_cell": {
    "cell_type": "raw",
    "source": [],
    "metadata": {
     "collapsed": false
    }
   }
  }
 },
 "nbformat": 4,
 "nbformat_minor": 1
}