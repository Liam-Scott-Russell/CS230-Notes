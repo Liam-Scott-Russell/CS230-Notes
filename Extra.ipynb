{
 "cells": [
  {
   "cell_type": "markdown",
   "metadata": {
    "collapsed": true,
    "pycharm": {
     "name": "#%% md\n"
    }
   },
   "source": [
    "# Extra Notes\n",
    "\n",
    "## Streams\n",
    "\n",
    "### Getting Started\n",
    "\n",
    "* The streams library provides functional tools like `map`, `filter`, `reduce`\n",
    "* For arrays, the streams class is used as follows `java.util.Arrays.stream(<arrObject>)`\n",
    "    * You have to type this out in Coderunner, as for some reason it doesn't like importing it\n",
    "* For array lists, the streams class is built in, and used as `arrList.stream()`\n",
    "\n",
    "### Functions\n",
    "\n",
    "#### Filter\n",
    "\n",
    "* The syntax for `filter` is `<streamObj>.filter(x -> <expression>)`\n",
    "* The filter function will iterate through the collection and return all elements for which the expression is true\n",
    "* e.g. `stream(numbers).filter(num -> num % 2 == 0);` returns all of the numbers that are even \n",
    "    * Note that I omit the boilerplate code of `java.util.Arrays.stream` here\n",
    "    \n",
    "##### Handing Exceptions\n",
    "\n",
    "* In the event that `.filter()` returns a null object, we can use the following snippet to return a default value\n",
    "* `<streamObj>.filter(x -> <expression>).findAny().orElse(<default>)`\n",
    "* The `findAny()`\n"
   ]
  }
 ],
 "metadata": {
  "kernelspec": {
   "display_name": "Python 3",
   "language": "python",
   "name": "python3"
  },
  "language_info": {
   "codemirror_mode": {
    "name": "ipython",
    "version": 2
   },
   "file_extension": ".py",
   "mimetype": "text/x-python",
   "name": "python",
   "nbconvert_exporter": "python",
   "pygments_lexer": "ipython2",
   "version": "2.7.6"
  },
  "pycharm": {
   "stem_cell": {
    "cell_type": "raw",
    "source": [],
    "metadata": {
     "collapsed": false
    }
   }
  }
 },
 "nbformat": 4,
 "nbformat_minor": 0
}