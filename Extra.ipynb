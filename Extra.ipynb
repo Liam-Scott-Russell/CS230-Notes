{
 "cells": [
  {
   "cell_type": "markdown",
   "metadata": {
    "collapsed": true,
    "pycharm": {
     "name": "#%% md\n"
    }
   },
   "source": [
    "# Extra Notes\n",
    "\n",
    "## Streams\n",
    "\n",
    "### Getting Started\n",
    "\n",
    "* The streams library provides functional tools like `map`, `filter`, `reduce`\n",
    "* Streams don't change the original data structure, they simply return a result\n",
    "\n",
    "#### Stream Process\n",
    "\n",
    "* Using streams in java can be divided up into 3 steps:\n",
    "    * Conversion to stream object\n",
    "    * Intermediate operations\n",
    "    * Terminal operations\n",
    "* All intermediate functions return another stream object, so intermediate operations can be chained\n",
    "    * This means that they must also be terminated back into another form later\n",
    "    \n",
    "### Converting to Stream Objects\n",
    "\n",
    "* For arrays, the streams class is used as follows `java.util.Arrays.stream(<arrObject>)`\n",
    "    * You have to type this out in CodeRunner, as for some reason it doesn't like importing it\n",
    "* For array lists, the streams class is built in, and used as `arrList.stream()`\n",
    "\n",
    "### Intermediate Functions\n",
    "\n",
    "#### Map\n",
    "\n",
    "* The syntax for `map` is `<streamobj>.map(x -> <function>)`\n",
    "* The map function applies a given function to all elements of the stream\n",
    "* e.g. `stream(numbers).map(num -> num * num)` will square all of the numbers\n",
    "\n",
    "#### Filter\n",
    "\n",
    "* The syntax for `filter` is `<streamObj>.filter(x -> <predicate>)`\n",
    "* The filter function will iterate through the collection and return all elements for which the predicate is true\n",
    "* e.g. `stream(numbers).filter(num -> num % 2 == 0);` returns all of the numbers that are even \n",
    "    * Note that I omit the boilerplate code of `java.util.Arrays.stream` here\n",
    "\n",
    "#### Sorted\n",
    "\n",
    "* The syntax for `sorted` is `<streamObj>.sorted(<comparator>)`\n",
    "* the sorted function will sort the stream using the comparator\n",
    "    * The default comparator for `sorted()` is increasing\n",
    "* e.g. `stream(numbers).sorted((num1, num2) -> num1 > num2` reverse sorts the numbers\n",
    "\n",
    "##### Comparators\n",
    "\n",
    "* \n",
    "    \n",
    "##### Handing Exceptions\n",
    "\n",
    "* In the event that `.filter()` returns a null object, we can use the following snippet to return a default value\n",
    "* `<streamObj>.filter(x -> <expression>).findAny().orElse(<default>)`\n",
    "* The `findAny()`\n"
   ]
  }
 ],
 "metadata": {
  "kernelspec": {
   "display_name": "Python 3",
   "language": "python",
   "name": "python3"
  },
  "language_info": {
   "codemirror_mode": {
    "name": "ipython",
    "version": 2
   },
   "file_extension": ".py",
   "mimetype": "text/x-python",
   "name": "python",
   "nbconvert_exporter": "python",
   "pygments_lexer": "ipython2",
   "version": "2.7.6"
  },
  "pycharm": {
   "stem_cell": {
    "cell_type": "raw",
    "source": [],
    "metadata": {
     "collapsed": false
    }
   }
  }
 },
 "nbformat": 4,
 "nbformat_minor": 0
}