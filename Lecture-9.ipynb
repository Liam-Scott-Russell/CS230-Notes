{
 "cells": [
  {
   "cell_type": "markdown",
   "metadata": {},
   "source": [
    "# Lecture 9 - Classes & Objects\n",
    "\n",
    "The beginning of this Lecture focussed on two Case Studies to illustrate the points made in the previous lecture. You can find the [Classes and Methods Case Study Slides] by selecting the link.\n",
    "\n",
    "## Composition\n",
    "\n",
    "A class may contain references to objects of other classes as members. We refer to this as **composition**, or a **has-a relationship**.\n",
    "\n",
    "For instance, an `Employee` class object may contain a `Time` object which contains the date he was hired.\n",
    "\n",
    "### Java Source Files\n",
    "\n",
    "When you compile a .java file containing more than one class, the compiler produces a separate class file with the `.class` extension for every compiled class.\n",
    "\n",
    "When one `.java` file contains multiple class declarations, the compiler will place both class files for those classes in the same directory.\n",
    "\n",
    "> **Note**: a source code file may only contain one public class, otherwise a compilation error may occur.\n",
    "\n",
    "[Classes and Methods Case Study Slides]:(resources\\lecture-9\\classes-example.pdf)\n"
   ]
  }
 ],
 "metadata": {
  "kernelspec": {
   "display_name": "Python 3",
   "language": "python",
   "name": "python3"
  },
  "language_info": {
   "codemirror_mode": {
    "name": "ipython",
    "version": 3
   },
   "file_extension": ".py",
   "mimetype": "text/x-python",
   "name": "python",
   "nbconvert_exporter": "python",
   "pygments_lexer": "ipython3",
   "version": "3.7.4"
  }
 },
 "nbformat": 4,
 "nbformat_minor": 2
}
