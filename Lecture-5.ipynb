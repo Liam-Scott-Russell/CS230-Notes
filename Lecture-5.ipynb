{
 "cells": [
  {
   "cell_type": "markdown",
   "metadata": {
    "collapsed": true,
    "pycharm": {
     "name": "#%% md\n"
    }
   },
   "source": [
    "# Lecture 5 - Methods\n",
    "\n",
    "## Introduction\n",
    "\n",
    "### Instance Methods\n",
    "\n",
    "* Instance methods are operations we can apply to objects to examine/change their state\n",
    "* Instance methods are referred to using the name of an object\n",
    "* The syntax for accessing index methods is `<variableName>.<methodName>(<parameters>)`\n",
    "\n",
    "### Popular String Methods\n",
    "\n",
    "| Python | Java | Description |\n",
    "| ------ | ---- | ----------- |\n",
    "| `str[3]` | `str.charAt(3)` | Returns the character at a specified index value |\n",
    "| `str[2:5]` | `str.substring(2, 5)` | Return a substring of the string, specifying the start and finish index |\n",
    "| `len(str)` | `str.length()` | Return the length of a string |\n",
    "| `str.find('x')` | `str.indexOf('x')` | Return the index of the first occurrence of a string |\n",
    "| `str.split()` | `str.split('\\s')` | Split the string on whitespace into an array of strings\n",
    "| `str + str` | `str.concat(str)` | Concatenate two strings together |\n",
    "| `str.strip()` | `str.trim()` | Remove whitespace at start or end of string |\n",
    "\n",
    "### Calling Methods\n",
    "\n",
    "* To call an instance method of the same class, the syntax is `<methodName>(<parameters>)`\n",
    "* To call an instance method from another class, the syntax is `<variableName>.<methodName>(<parameters>)`\n",
    "* To call a static method, the syntax is `<className>.<methodName>(<parameters>)`\n",
    "\n",
    "## Static Methods\n",
    "\n",
    "### What are Static Methods\n",
    "\n",
    "* Static methods are methods that do not depend on the contents of any object\n",
    "* In Java, all of the methods in the `Math` class are static\n",
    "* The keyword `final` indicates that a variable is a constant and cannot be changed after initialization\n",
    "\n",
    "### Why `main()` is Static:\n",
    "\n",
    "* Declaring `main()` as a static method allows the JVM to invoke the method without creating an object of the class\n",
    "* Omitting the `static` keyword for the `main()` class will still compile, but will not execute\n",
    "\n",
    "## Method Declarations\n",
    "\n",
    "### Method Headers\n",
    "\n",
    "* The method header of a declaration must contain the following components:\n",
    "    * Modifiers\n",
    "    * Return type\n",
    "    * Method name\n",
    "    * Method parameters\n",
    "\n",
    "### Method Body\n",
    "\n",
    "* The method body may terminate in one of 3 ways:\n",
    "    * The sequence of control hits the method-ending right brace: `}`\n",
    "    * Returning a value from an expression: `return <expression>`\n",
    "\n",
    "## Method Calls\n",
    "\n",
    "### Activation Record\n",
    "\n",
    "* When a method is called, the return address of the calling method is pushed on the method-call stack\n",
    "* The method-call stack contains:\n",
    "    * Local variables\n",
    "    * Parameters\n",
    "    * Return address\n",
    "    * Previous base pointer\n",
    "    * Return Value\n",
    "\n",
    "#### Example Activation Record\n",
    "\n",
    "| |\n",
    "|:-:|\n",
    "|$\\vdots$ |\n",
    "| Local variable $n$ |\n",
    "| $\\vdots$ |\n",
    "| Local variable 1 |\n",
    "| Parameter 1 |\n",
    "| $\\vdots$ |\n",
    "| Parameter $n$ |\n",
    "| Return address |\n",
    "| Previous base pointer |\n",
    "| Return value |\n",
    "| $\\vdots$ |\n",
    "| |\n",
    "\n",
    "### Successive Method Calls\n",
    "\n",
    "* If a series of methods are called, the return address are pushed to the stack in last-in, first-out order (LIFO)\n",
    "* When a method returns to its caller, the method's stack frame is popped off the stack\n",
    "* As methods are removed from the stack upon returning, their local variables are lost\n",
    "\n",
    "## Scope of Declarations\n",
    "\n",
    "* Declarations introduce names to refer to classes, methods, variables, and parameters\n",
    "* The scope of a declaration is the portion of the program that can refer to the declare entity by name\n",
    "\n",
    "### Rules\n",
    "\n",
    "* The scope of a local-variable declared in a for-loop's header is the header and body of the for-loop\n",
    "* The scope of a local-variable declared is from the declaration until the end of the nearest block\n",
    "* The scope of a parameter declaration is the body of the method\n",
    "* If a local-variable in a method has the same name as a class field, then the field is hidden for that method\n",
    "    * This is called shadowing\n",
    "    "
   ]
  },
  {
   "cell_type": "code",
   "execution_count": 3,
   "metadata": {
    "pycharm": {
     "is_executing": false,
     "name": "#%% java\n"
    }
   },
   "outputs": [
    {
     "name": "stdout",
     "output_type": "stream",
     "text": [
      "local x=5\n",
      "field x=1\n"
     ]
    }
   ],
   "source": [
    "public class Test {\n",
    "    public static int x = 1; // a field\n",
    "\n",
    "    public static void main(String[] args) {\n",
    "        int x = 5; // local variable shadows field\n",
    "        System.out.printf(\"local x=%d%n\", x);\n",
    "        method2();\n",
    "    }\n",
    "    \n",
    "    public static void method2() {\n",
    "        System.out.printf(\"field x=%d%n\", x)\n",
    "    }\n",
    "}"
   ]
  },
  {
   "cell_type": "markdown",
   "metadata": {
    "pycharm": {
     "name": "#%% md\n"
    }
   },
   "source": [
    "## Method Overloading\n",
    "\n",
    "### Definition\n",
    "\n",
    "* Methods of the same name can be declared in the same class, so long as they have different parameters\n",
    "    * This is called method overloading\n",
    "* With method overloading, the compiler automatically selects the correct method based on parameters and types\n",
    "\n",
    "### Rules\n",
    "\n",
    "* A method's signature is the combination of the method name, and the type and number of parameters\n",
    "* The compiler determines which overloaded method to call based on the method's signature\n",
    "* Methods cannot be distinguished by return type, unless the methods have different parameter lists\n",
    "\n",
    "### Argument Promotion\n",
    "\n",
    "* Argument promotion is converting an arguments value to the type that the method expects\n",
    "* Argument promotion rules include:\n",
    "    * `int` to `double`\n",
    "    * `float` to `double`"
   ]
  },
  {
   "cell_type": "code",
   "execution_count": 4,
   "metadata": {
    "pycharm": {
     "name": "#%% java\n"
    }
   },
   "outputs": [
    {
     "name": "stdout",
     "output_type": "stream",
     "text": [
      "2.0\n",
      "2.0\n"
     ]
    }
   ],
   "source": [
    "// 4 is converted to 4.0 before being passed to the method\n",
    "System.out.println(Math.sqrt(4)); \n",
    "System.out.println(Math.sqrt(4.0));"
   ]
  },
  {
   "cell_type": "markdown",
   "metadata": {
    "pycharm": {
     "name": "#%% md\n"
    }
   },
   "source": [
    "## Random Numbers\n",
    "\n",
    "### Generating Random Numbers\n",
    "\n",
    "* The class used to generate random numbers is `java.security.SecureRandom()`\n",
    "* To generate an integer, the following steps must be performed:\n",
    "    * Generate a random object `SecureRandom random = new SecureRandom()`\n",
    "    * Generate an integer `random.nextInt(x)` where `x` is random on $[0, x-1]$\n",
    "\n",
    "### Scaling and Shifting\n",
    "\n",
    "* To generate random numbers on the integers of $[x, y]$ do the following:\n",
    "    * Generate a random object `SecureRandom random = new SecureRandom()`\n",
    "    * Generate an integer `x + random.nextInt(y)` \n",
    "    \n",
    "#### Generating Dice Example"
   ]
  },
  {
   "cell_type": "code",
   "execution_count": 18,
   "metadata": {
    "pycharm": {
     "name": "#%% java\n",
     "is_executing": false
    }
   },
   "outputs": [],
   "source": [
    "import java.security.SecureRandom; \n",
    "\n",
    "SecureRandom random = new SecureRandom();\n",
    "int diceRoll = 1 + random.nextInt(6);\n",
    "System.out.println(diceRoll);\n",
    "    "
   ]
  }
 ],
 "metadata": {
  "kernelspec": {
   "display_name": "SciJava",
   "language": "groovy",
   "name": "scijava"
  },
  "language_info": {
   "codemirror_mode": "groovy",
   "file_extension": "",
   "mimetype": "",
   "name": "scijava",
   "nbconverter_exporter": "",
   "pygments_lexer": "groovy",
   "version": "1.0"
  },
  "pycharm": {
   "stem_cell": {
    "cell_type": "raw",
    "metadata": {
     "collapsed": false
    },
    "source": []
   }
  }
 },
 "nbformat": 4,
 "nbformat_minor": 1
}