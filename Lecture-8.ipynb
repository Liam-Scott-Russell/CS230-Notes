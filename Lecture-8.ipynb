{
 "cells": [
  {
   "cell_type": "markdown",
   "metadata": {
    "collapsed": true,
    "pycharm": {
     "name": "#%% md\n"
    }
   },
   "source": [
    "# Lecture 8: Classes Intro\n",
    "\n",
    "## Intro\n",
    "\n",
    "### What are Classes\n",
    "\n",
    "* Classes are a set of objects with shared behaviour and individual state\n",
    "* For a class, the individual state is that data is stored as an instance variable of that class\n",
    "* For a class, the shared behaviour is the methods that different instances share\n",
    "\n",
    "### What are Objects\n",
    "\n",
    "* An object is an instance of a class, created at run time\n",
    "* All objects have a state, and some behaviour\n",
    "* It is possible for there to be zero, one, or many instances of a class\n",
    "* All instantiated objects will be garbage collected if no user-defined objects reference them\n",
    "\n",
    "## Builtin Classes\n",
    "\n",
    "### Useful Classes\n",
    "\n",
    "* The following classes are provided in the `java.awt` package\n",
    "* The `Point` class represents a location in $(x, y)$ space\n",
    "* The `Rectangle` class represents an area defined by the rectangles top-left point, its width, and its height\n",
    "\n",
    "### Creating Objects\n",
    "\n",
    "* There are 3 steps to creating objects:\n",
    "    * Declaration\n",
    "    * Initialization\n",
    "    * Instantiation\n",
    "\n",
    "#### Declaration\n",
    "\n",
    "* Declaration is declaring a variable to refer to a specific object\n",
    "* All variables must hold either a primitive type or a reference to some object\n",
    "* A declared reference may or may not be actually pointing to an object\n",
    "* e.g. `int x;`\n",
    "\n",
    "#### Instantiation\n",
    "\n",
    "* Instantiating a class is creating the object using the `new` keyword\n",
    "* The `new` operator does the following:\n",
    "    * Allocates memory for the new object\n",
    "    * Returns a reference to the object created\n",
    "    * Makes a call to the class's constructor method\n",
    "* e.g. `Point p = new Point(23, 94);`\n",
    "\n",
    "#### Initialization\n",
    "\n",
    "* Initialization of objects is handled by the class's constructor method, whenever the object is declared\n",
    "* All objects have a default value, which they will assume unless directed otherwise\n",
    "* Reference types are initialized to `null`, while integers are initialized to `0`\n",
    "* The constructor of the object can initialize values based on what was passed in during instantiation\n",
    "    \n",
    "## Creating Classes\n",
    "\n",
    "### Parts of the Class\n",
    "\n",
    "* The class definition has two distinct parts:\n",
    "    * Class declaration\n",
    "    * Class body\n",
    "* The class declaration has the syntax `class <ClassName> { <members> }`\n",
    "* The class body contains:\n",
    "    * Constructors\n",
    "    * Fields\n",
    "    * Methods\n",
    "* Class names use PascalCase, i.e. capital first letter and capital for each word afterwards\n",
    "    \n",
    "> **Note** each class with the `public` access modifier must be stored in a file that has the **same name** and ends with a `.java` extension\n",
    "\n",
    "### Instance Variables\n",
    "\n",
    "* Instance variables are dynamically allocated, so they may have different values in each object instance\n",
    "* A class declares the type of the data, but it does not reserve any memory for it\n",
    "* When an object is instantiated, the runtime system allocates some memory to the instance\n",
    "    * This is done to remember the value stored in the variable\n",
    "* Instance variables exist before methods are called on an object\n",
    "* A class normally contains methods to manipulate the instance variables\n",
    "* Instance variables are declared inside the class body, but outside of the method bodies\n",
    "* Instance variables are also called fields\n",
    "\n",
    "### Visibility Modifiers\n",
    "\n",
    "* Access modifiers set the access levels for classes, variables, methods and constructors\n",
    "* The `private` access modifier allows class members to be accessed from within the same class\n",
    "* The `default` access modifier allows class members to be accessed from within the same package\n",
    "    * This is given to all class members that do not specify an access modifier\n",
    "* The `protected` access modifier allows class members to be accessed from within the same package, and from other packages via inheritance\n",
    "* The `public` access modifier allows class members to be accessed from anywhere\n",
    "\n",
    "| Access Modifier   | Within Class  | Within Package    | Outside Package via Inheritance   | Outside Package   |\n",
    "| :--               | :--           | :--               | :--                               | :--               |\n",
    "| Private           | Yes           | No                | No                                | No                |\n",
    "| Default           | Yes           | No                | No                                | No                |\n",
    "| Protected         | Yes           | No                | No                                | No                |\n",
    "| Public            | Yes           | No                | No                                | No                |\n",
    "\n",
    "### Constructors\n",
    "\n",
    "### Instance Methods\n",
    "\n",
    "### Object Instantiation\n",
    "\n",
    "### Getting and Setting\n",
    "\n",
    "### The `this` keyword"
   ]
  },
  {
   "cell_type": "code",
   "execution_count": null,
   "outputs": [],
   "source": [
    "class Car {\n",
    "    // fields\n",
    "    private String name;\n",
    "    private String model;\n",
    "    private int year;\n",
    "    private int speed;\n",
    "    private int doors;\n",
    "    private boolean isLocked;\n",
    "}"
   ],
   "metadata": {
    "collapsed": false,
    "pycharm": {
     "name": "#%%\n"
    }
   }
  },
  {
   "cell_type": "markdown",
   "source": [
    "## Class Variables and Methods\n"
   ],
   "metadata": {
    "collapsed": false
   }
  }
 ],
 "metadata": {
  "kernelspec": {
   "name": "scijava",
   "language": "groovy",
   "display_name": "SciJava"
  },
  "language_info": {
   "codemirror_mode": {
    "name": "ipython",
    "version": 2
   },
   "file_extension": ".py",
   "mimetype": "text/x-python",
   "name": "python",
   "nbconvert_exporter": "python",
   "pygments_lexer": "ipython2",
   "version": "2.7.6"
  },
  "pycharm": {
   "stem_cell": {
    "cell_type": "raw",
    "source": [],
    "metadata": {
     "collapsed": false
    }
   }
  }
 },
 "nbformat": 4,
 "nbformat_minor": 0
}