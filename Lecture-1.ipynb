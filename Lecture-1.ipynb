{
 "cells": [
  {
   "cell_type": "markdown",
   "metadata": {
    "collapsed": true,
    "pycharm": {
     "name": "#%% md\n"
    }
   },
   "source": [
    "# Lecture 1\n",
    "\n",
    "## 1- Object Oriented Principles\n",
    "\n",
    "### Definitions\n",
    "\n",
    "#### Objects\n",
    "\n",
    "* An object is a software bundle of related state and behaviour\n",
    "* Software objects are used to model real world objects\n",
    "\n",
    "\n",
    "##### Classes\n",
    "\n",
    "* A class is a blueprint from which objects are created\n",
    "* A class defines what state and behaviour an object can have\n",
    "\n",
    "#### Inheritance\n",
    "\n",
    "* Inheritance describes how classes inherit state and behaviour from superclasses\n",
    "* Inheritance gives a mechanism for organising and structuring software\n",
    "* Inheritance models an \"is-a\" relationship\n",
    "    * e.g. a sedan _is a_ car, a sports car _is a_ car\n",
    "* The parent or base class has multiple *specialization* classes that are derived from it\n",
    "* Specialized class inherit all of ht properties of the general class\n",
    "    * Thus it is unnecessary to re-write the general sections of code\n",
    "\n",
    "#### Interfaces\n",
    "\n",
    "* An interface is a *contract* between a class and the outside world\n",
    "* When a class implements an interface, the class promises to provide the behaviour outlined in the interface\n",
    "\n",
    "## 3 - Anatomy of Java\n",
    "\n",
    "### Compilation and Interpretation\n",
    "\n",
    "* All source code is written in plain-text files with the `.java` file extension\n",
    "* Source files are then compiled into `.class` files by the javac compiler\n",
    "* A `.class` file does not contain code that is native to the processor\n",
    "* A `.class` file contains bytecodes: the language of the Java Virtual Machine\n",
    "* The Java Launcher Tool then runs the bytecode on an instance of the JVM\n",
    "\n",
    "### Important Rules\n",
    "\n",
    "* A Java source code file contains one or more Java classes\n",
    "* If there is more than one class in a source code file, only one of them may be public\n",
    "* The public class and the filename of the sourcecode must match\n",
    "    * i.e. a class named `MyProgram` must be saved as `MyProgram.java`\n",
    "* Every executable Java program must have a function called `public static void main(String[] args)`\n",
    "* The `main` function is where the Java application begins\n",
    "\n",
    "### Parts of a Java Program\n",
    "\n",
    "* The class header tells the compiler things about the class, such as:\n",
    "    * Which other classes can use it e.g. `public`\n",
    "    * What type of object it is, e.g. `class`\n",
    "    * The name of the object\n",
    "* Curly braces: `{}` are used to define the scope of a class or method"
   ]
  }
 ],
 "metadata": {
  "kernelspec": {
   "display_name": "Java",
   "language": "java",
   "name": "java"
  },
  "language_info": {
   "codemirror_mode": {
    "name": "ipython",
    "version": 3
   },
   "file_extension": ".py",
   "mimetype": "text/x-python",
   "name": "python",
   "nbconvert_exporter": "python",
   "pygments_lexer": "ipython3",
   "version": "3.7.4"
  },
  "pycharm": {
   "stem_cell": {
    "cell_type": "raw",
    "source": [],
    "metadata": {
     "collapsed": false
    }
   }
  }
 },
 "nbformat": 4,
 "nbformat_minor": 1
}